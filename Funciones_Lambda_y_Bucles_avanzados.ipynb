{
 "cells": [
  {
   "cell_type": "markdown",
   "metadata": {},
   "source": [
    "# BUCLES FOR"
   ]
  },
  {
   "cell_type": "markdown",
   "metadata": {},
   "source": [
    "La sintaxis de un bloque de código:\n",
    "\n",
    "for ELEMENTO in SECUENCIA:\n",
    "\n",
    "Procesa las instrucciones tantas veces como elementos tenga SECUENCIA."
   ]
  },
  {
   "cell_type": "code",
   "execution_count": 2,
   "metadata": {},
   "outputs": [
    {
     "name": "stdout",
     "output_type": "stream",
     "text": [
      "H\n",
      "o\n",
      "l\n",
      "a\n",
      " \n",
      "M\n",
      "u\n",
      "n\n",
      "d\n",
      "o\n"
     ]
    }
   ],
   "source": [
    "# Esto es un comentario\n",
    "\n",
    "# Para este ejemplo iteramos la frase \"Hola Mundo\".\n",
    "# Es un bucle simple con una variable llamada 'indice'\n",
    "# que itera la cadena de texto, por lo que cada vuelta que da el bucle, \n",
    "# toma el valor de una letra del 'String' que es la que imprime en cada 'print()'.\n",
    "\n",
    "for indice in 'Hola Mundo':\n",
    "    #Usamos print para imprimir por pantalla los resultados\n",
    "    print(indice)"
   ]
  },
  {
   "cell_type": "code",
   "execution_count": 3,
   "metadata": {},
   "outputs": [
    {
     "name": "stdout",
     "output_type": "stream",
     "text": [
      "a\n",
      "b\n",
      "c\n",
      "d\n",
      "e\n",
      "f\n",
      "g\n",
      "h\n",
      "i\n",
      "j\n",
      "k\n",
      "l\n",
      "m\n",
      "n\n",
      "o\n",
      "p\n",
      "q\n",
      "r\n",
      "s\n",
      "t\n",
      "u\n",
      "v\n",
      "w\n",
      "x\n",
      "y\n",
      "z\n"
     ]
    }
   ],
   "source": [
    "# Ahora tenemos una cadena que representa el abecedario:\n",
    "abecedario = \"abcdefghijklmnopqrstuvwxyz\"\n",
    "for letra in abecedario:\n",
    "    print(letra)"
   ]
  },
  {
   "cell_type": "markdown",
   "metadata": {},
   "source": [
    "### Bucle for + listas"
   ]
  },
  {
   "cell_type": "code",
   "execution_count": 4,
   "metadata": {},
   "outputs": [
    {
     "name": "stdout",
     "output_type": "stream",
     "text": [
      "Lunes\n",
      "Martes\n",
      "Miércoles\n",
      "Jueves\n",
      "Viernes\n",
      "Sábado\n",
      "Domingo\n"
     ]
    }
   ],
   "source": [
    "# Cuando tenemos diferentes elementos usamos una \"lista\".\n",
    "# Es una estructura '[]' donde podemos almacenar cadenas, números o variables.\n",
    "dias = ['Lunes', 'Martes', 'Miércoles', 'Jueves', 'Viernes', 'Sábado', 'Domingo']\n",
    "# Sed coherentes con el \"bautizo\" de variables:\n",
    "for dia in dias:\n",
    "\tprint(dia)"
   ]
  },
  {
   "cell_type": "markdown",
   "metadata": {},
   "source": [
    "### Bucle for + if"
   ]
  },
  {
   "cell_type": "code",
   "execution_count": 10,
   "metadata": {},
   "outputs": [
    {
     "name": "stdout",
     "output_type": "stream",
     "text": [
      "0\n",
      "-1\n",
      "¡Número positivo!\n",
      "1\n",
      "¡Número positivo!\n",
      "2\n",
      "¡Número positivo!\n",
      "5\n",
      "¡Número positivo!\n",
      "1\n",
      "¡Número positivo!\n",
      "2\n",
      "¡Número positivo!\n",
      "5\n"
     ]
    }
   ],
   "source": [
    "numeros = [0,-1,1,2,5]\n",
    "\n",
    "# En este caso, usamos un \"filtro\" con una estructura de control \"if\"\n",
    "for numero in numeros:\n",
    "  if (numero > 0):\n",
    "    print(\"¡Número positivo!\")\n",
    "  \n",
    "  print(numero)\n",
    "\n",
    "#Si solo queremos imprimir los numeros positivos, tenemos que meter el print(numero) dentro del if:\n",
    "for solopositivos in numeros:\n",
    "  if (solopositivos > 0):\n",
    "    print(\"¡Número positivo!\")\n",
    "    print(solopositivos)\n"
   ]
  },
  {
   "cell_type": "markdown",
   "metadata": {},
   "source": [
    "### Break"
   ]
  },
  {
   "cell_type": "code",
   "execution_count": 11,
   "metadata": {},
   "outputs": [
    {
     "name": "stdout",
     "output_type": "stream",
     "text": [
      "0\n",
      "¡Número negativo!\n"
     ]
    }
   ],
   "source": [
    "# En este otro ejemplo, al encontrar un número negativo, \n",
    "# paramos el programa usando \"break\"\n",
    "\n",
    "for numero in numeros:\n",
    "  if (numero < 0):\n",
    "    print(\"¡Número negativo!\")\n",
    "    break # Paramos el bucle. \n",
    "  \n",
    "  print(numero)"
   ]
  },
  {
   "cell_type": "markdown",
   "metadata": {},
   "source": [
    "### Pass"
   ]
  },
  {
   "cell_type": "code",
   "execution_count": 15,
   "metadata": {},
   "outputs": [
    {
     "name": "stdout",
     "output_type": "stream",
     "text": [
      "0\n",
      "¡Número negativo!\n",
      "-1\n",
      "¡Número negativo!\n",
      "-3\n",
      "1\n",
      "2\n",
      "5\n"
     ]
    }
   ],
   "source": [
    "# Al encontrar un número negativo, el bucle no para ya que se usa \"pass\"\n",
    "numeros = [0, -1 , -3, 1 , 2 , 5]\n",
    "\n",
    "for numero in numeros:\n",
    "  if (numero < 0):\n",
    "    print(\"¡Número negativo!\")\n",
    "    pass # Prueba a comentar para ver qué ocurre.\n",
    "  print(numero)"
   ]
  },
  {
   "cell_type": "code",
   "execution_count": 17,
   "metadata": {},
   "outputs": [
    {
     "name": "stdout",
     "output_type": "stream",
     "text": [
      "El numero -9 es impar\n",
      "El numero 5 es impar\n",
      "El numero 0 es par.\n",
      "El numero -4 es par.\n",
      "El numero 3 es impar\n",
      "El numero 6 es par.\n"
     ]
    }
   ],
   "source": [
    "# Quiero ver si cada numero de la lista es impar\n",
    "\n",
    "lista = [-9, 5, 0, -4, 3, 6]\n",
    "\n",
    "for numero in lista:\n",
    "    if numero%2 != 0: #otra manera para indicar que sea impar, es poner: numero%2 == 1 (que el resto sea 1)\n",
    "        print(f'El numero {numero} es impar')\n",
    "    else:\n",
    "        print(f'El numero {numero} es par.')"
   ]
  },
  {
   "cell_type": "code",
   "execution_count": 19,
   "metadata": {},
   "outputs": [
    {
     "name": "stdout",
     "output_type": "stream",
     "text": [
      "El numero -9 es impar\n",
      "El numero 5 es impar\n",
      "Pepe no es un numero\n",
      "El numero 0 es par.\n",
      "El numero -4 es par.\n",
      "El numero 3 es impar\n",
      "El numero 6 es par.\n",
      "El numero -9 es impar\n",
      "El numero 5 es impar\n",
      "Pepe no es un numero\n",
      "El numero 0 es par.\n",
      "El numero -4 es par.\n",
      "El numero 3 es impar\n",
      "El numero 6 es par.\n"
     ]
    }
   ],
   "source": [
    "#añadimos un str a la lista\n",
    "\n",
    "lista = [-9, 5, 'Pepe', 0, -4, 3, 6]\n",
    "\n",
    "for numero in lista:\n",
    "    if type(numero) == str:\n",
    "        print(f'{numero} no es un numero')\n",
    "        continue #continue hace que, a pesar de que el siguiente numero no sea un str, se continue\n",
    "    if numero%2 != 0: #otra manera para indicar que sea impar, es poner: numero%2 == 1 (que el resto sea 1)\n",
    "        print(f'El numero {numero} es impar')\n",
    "    else:\n",
    "        print(f'El numero {numero} es par.')\n",
    "\n",
    "#otra manera: con elif\n",
    "\n",
    "for numero in lista:\n",
    "    if type(numero) == str:\n",
    "        print(f'{numero} no es un numero')\n",
    "        \n",
    "    elif numero%2 != 0: #otra manera para indicar que sea impar, es poner: numero%2 == 1 (que el resto sea 1)\n",
    "        print(f'El numero {numero} es impar')\n",
    "    else:\n",
    "        print(f'El numero {numero} es par.')"
   ]
  },
  {
   "cell_type": "markdown",
   "metadata": {},
   "source": [
    "### Range"
   ]
  },
  {
   "cell_type": "code",
   "execution_count": 20,
   "metadata": {},
   "outputs": [
    {
     "name": "stdout",
     "output_type": "stream",
     "text": [
      "0\n",
      "1\n",
      "2\n"
     ]
    }
   ],
   "source": [
    "# \"Range\" es otra opción para iterar:\n",
    "# Referencia: https://docs.python.org/3/library/stdtypes.html?highlight=range#range\n",
    "# El límite inferior (0) está incluido. PERO el límite superior no. Es decir, va de [0,2]\n",
    "# En resumen, range(3) = [0,1,2]. Recordad que se empieza a contar en 0. \n",
    "\n",
    "for i in range(3):\n",
    "  print(i)"
   ]
  },
  {
   "cell_type": "code",
   "execution_count": 24,
   "metadata": {},
   "outputs": [
    {
     "name": "stdout",
     "output_type": "stream",
     "text": [
      "1\n",
      "2\n",
      "3\n",
      "4\n",
      "5\n",
      "6\n",
      "7\n",
      "8\n",
      "9\n"
     ]
    }
   ],
   "source": [
    "# \"Range\" tiene otra característica y es la siguiente configuración \"range(min_value, max_value, incremento)\".\n",
    "# Cuando lo encontramos con 3 parámetros estamos especificando el límite inferior, el superior y el incremento. \n",
    "# Técnicamente, genera una secuencia con números tipo \"min_value\" , \"min_value + 1\" , ..., \"max_value - 1\". \n",
    "# Ojo, el último número no está incluido y hemos definido empezar en 1 y no en 0.\n",
    "\n",
    "for i in range(1, 10, 1):\n",
    "    print(i)"
   ]
  },
  {
   "cell_type": "code",
   "execution_count": 22,
   "metadata": {},
   "outputs": [
    {
     "name": "stdout",
     "output_type": "stream",
     "text": [
      "1\n",
      "6\n",
      "11\n",
      "16\n"
     ]
    }
   ],
   "source": [
    "# Otro ejemplo, del 1 al 20, de 5 en 5.\n",
    "\n",
    "for i in range(1, 20, 5):\n",
    "    print(i)"
   ]
  },
  {
   "cell_type": "code",
   "execution_count": 25,
   "metadata": {},
   "outputs": [
    {
     "name": "stdout",
     "output_type": "stream",
     "text": [
      "-1\n",
      "-2\n",
      "-3\n",
      "-4\n",
      "-5\n",
      "-6\n",
      "-7\n",
      "-8\n",
      "-9\n"
     ]
    }
   ],
   "source": [
    "# También es factible usarlo para los números negativos.\n",
    "\n",
    "for i in range(-1, -10, -1):\n",
    "\tprint(i)"
   ]
  },
  {
   "cell_type": "markdown",
   "metadata": {},
   "source": [
    "### Enumerate"
   ]
  },
  {
   "cell_type": "code",
   "execution_count": 26,
   "metadata": {},
   "outputs": [
    {
     "name": "stdout",
     "output_type": "stream",
     "text": [
      "0: Lunes\n",
      "1: Martes\n",
      "2: Miércoles\n",
      "3: Jueves\n",
      "4: Viernes\n",
      "5: Sábado\n",
      "6: Domingo\n"
     ]
    }
   ],
   "source": [
    "# Vamos a ver varios conceptos:\n",
    "dias = ['Lunes', 'Martes', 'Miércoles', 'Jueves', 'Viernes', 'Sábado', 'Domingo']\n",
    "\n",
    "# En primer lugar, (i, valor), podemos ver como Python provee el índice del elemento que consultamos\n",
    "# porque usamos \"enumerate\": \n",
    "# https://docs.python.org/3/library/functions.html?highlight=enumerate#enumerate\n",
    "# Enumerate devolverá:\n",
    "# (0,Lunes), (1,Martes), ... (6, Domingo)\n",
    "\n",
    "for (i, valor) in enumerate(dias):\n",
    "    # Al imprimir, usamos %d y %s.\n",
    "    # %d corresponde a un número entero, el índice, i.\n",
    "    # %s corresponde a una cadena de texto, el día de la semana, valor.\n",
    "    print('%d: %s' % (i, valor))"
   ]
  },
  {
   "cell_type": "code",
   "execution_count": 29,
   "metadata": {},
   "outputs": [
    {
     "name": "stdout",
     "output_type": "stream",
     "text": [
      "1: Lunes\n",
      "2: Martes\n",
      "3: Miércoles\n",
      "4: Jueves\n",
      "5: Viernes\n",
      "6: Sábado\n",
      "7: Domingo\n"
     ]
    }
   ],
   "source": [
    "#forma simple de hacer lo anterior\n",
    "\n",
    "i = 1\n",
    "\n",
    "for dia in dias:\n",
    "    print(str(i)+': '+dia)\n",
    "    i = i+1"
   ]
  },
  {
   "cell_type": "code",
   "execution_count": 32,
   "metadata": {},
   "outputs": [
    {
     "name": "stdout",
     "output_type": "stream",
     "text": [
      "[(1, 'Lunes'), (2, 'Martes'), (3, 'Miércoles'), (4, 'Jueves'), (5, 'Viernes'), (6, 'Sábado'), (7, 'Domingo')]\n"
     ]
    }
   ],
   "source": [
    "#si queremos meterlo en una lista vacia en forma de tupla\n",
    "\n",
    "lista = []\n",
    "i = 1\n",
    "\n",
    "for dia in dias:\n",
    "    lista.append((i, dia))\n",
    "    i = i+1\n",
    "\n",
    "print(lista)"
   ]
  },
  {
   "cell_type": "code",
   "execution_count": 43,
   "metadata": {},
   "outputs": [
    {
     "name": "stdout",
     "output_type": "stream",
     "text": [
      "(1, 'Lunes')\n",
      "(2, 'Martes')\n",
      "(3, 'Miércoles')\n",
      "(4, 'Jueves')\n",
      "(5, 'Viernes')\n",
      "(6, 'Sábado')\n",
      "(7, 'Domingo')\n"
     ]
    }
   ],
   "source": [
    "#usando enumerate\n",
    "dias = ['Lunes', 'Martes', 'Miércoles', 'Jueves', 'Viernes', 'Sábado', 'Domingo']\n",
    "for dia in enumerate(dias, 1): #si no le ponemos el 1, empieza en \n",
    "    \n",
    "    print(dia)"
   ]
  },
  {
   "cell_type": "code",
   "execution_count": 39,
   "metadata": {},
   "outputs": [
    {
     "name": "stdout",
     "output_type": "stream",
     "text": [
      "El numero 1 es el dia Lunes\n",
      "El numero 2 es el dia Martes\n",
      "El numero 3 es el dia Miércoles\n",
      "El numero 4 es el dia Jueves\n",
      "El numero 5 es el dia Viernes\n",
      "El numero 6 es el dia Sábado\n",
      "El numero 7 es el dia Domingo\n"
     ]
    }
   ],
   "source": [
    "#día  va a ser (1, lunes) luego (2, martes), luego (3, miercoles). Va a ir pasando por cada valor de la tupla.\n",
    "#jugamos con las posiciones, que siempre va a ser 0 y 1 porque solo tienen dos elementos (1, lunes)\n",
    "for dia in enumerate(dias, 1):\n",
    "    print(f'El numero {dia[0]} es el dia {dia[1]}') "
   ]
  },
  {
   "cell_type": "markdown",
   "metadata": {},
   "source": [
    "# CONDICIONAL IN"
   ]
  },
  {
   "cell_type": "code",
   "execution_count": 46,
   "metadata": {},
   "outputs": [
    {
     "name": "stdout",
     "output_type": "stream",
     "text": [
      "No hemos encontrado a  Fabiola , parece que no ha venido\n"
     ]
    }
   ],
   "source": [
    "# En Python \"IN\" es bastante útil.\n",
    "# Sirve para buscar en una lista.\n",
    "\n",
    "asistentes = ['María', 'Lucas', 'Paula', 'Pedro', 'Jose', 'Lucía']\n",
    "valor_buscado = 'Fabiola'\n",
    "\n",
    "if valor_buscado in asistentes:\n",
    "  print('Hemos encontrado a ' , valor_buscado)\n",
    "else:\n",
    "  print('No hemos encontrado a ' , valor_buscado , \", parece que no ha venido\")"
   ]
  },
  {
   "cell_type": "markdown",
   "metadata": {},
   "source": [
    "# Anidacion de Bucles"
   ]
  },
  {
   "cell_type": "code",
   "execution_count": 48,
   "metadata": {},
   "outputs": [
    {
     "name": "stdout",
     "output_type": "stream",
     "text": [
      "IPhone\n",
      "IPod\n",
      "IPad\n",
      "Galaxy\n",
      "Mi\n",
      "Redmi\n"
     ]
    }
   ],
   "source": [
    "# En Python, los bucles se pueden anidar dentro de otros bucles. \n",
    "# Los bucles anidados se pueden usar para acceder a elementos de listas que están dentro de otras listas. \n",
    "# El elemento seleccionado del ciclo externo se puede usar como la lista para que el ciclo interno itere.\n",
    "telefonos = [\n",
    "          [\"IPhone\", \"IPod\", \"IPad\"], \n",
    "          [\"Galaxy\"], \n",
    "          [\"Mi\", \"Redmi\"]\n",
    "         ]\n",
    "\n",
    "for marca in telefonos: #cada marca es cada lista. El primer grupo de marcas es \"Iphone\", \"IPod\" y \"IPad\"\n",
    "  for producto in marca: #cada producto son los elementos de cada marca. El primer producto es \"IPhone\"\n",
    "    print(producto)\n",
    "\n",
    "#si le decimos que nos imprima marca, nos va a salir [\"IPhone\", \"IPod\", \"IPad\"], [\"Galaxy\"], [\"Mi\", \"Redmi\"]."
   ]
  },
  {
   "cell_type": "markdown",
   "metadata": {},
   "source": [
    "# Diccionarios"
   ]
  },
  {
   "cell_type": "code",
   "execution_count": 55,
   "metadata": {},
   "outputs": [
    {
     "name": "stdout",
     "output_type": "stream",
     "text": [
      "clave 1 contiene el valor Hola\n",
      "clave 2 contiene el valor 15\n",
      "clave 3 contiene el valor Lunes\n",
      "clave 4 contiene el valor Python\n",
      "clave 5 contiene el valor 5\n",
      "===================================\n",
      "clave 1\n",
      "clave 2\n",
      "clave 3\n",
      "clave 4\n",
      "clave 5\n",
      "===================================\n",
      "Hola\n",
      "15\n",
      "Lunes\n",
      "Python\n",
      "5\n"
     ]
    },
    {
     "data": {
      "text/plain": [
       "15"
      ]
     },
     "execution_count": 55,
     "metadata": {},
     "output_type": "execute_result"
    }
   ],
   "source": [
    "# Los diccionarios son estructuras muy usadas en Python.\n",
    "# Tiene la forma <K,V> (Clave, Valor).\n",
    "# Es decir, dada una K, el diccionario responde con una V.\n",
    "# Un ejemplo en la vida real, dado un DNI (es una clave unívoca) identifica a una persona.\n",
    "# K = DNI\n",
    "# V = Persona\n",
    "\n",
    "# En este tejemplo vemos diferentes aproximaciones a cómo trabajar con diccionarios:\n",
    "\n",
    "diccionario = {\"clave 1\": \"Hola\", \n",
    "               \"clave 2\": 15,\n",
    "               \"clave 3\": \"Lunes\",\n",
    "               \"clave 4\": \"Python\",\n",
    "               \"clave 5\": 5\n",
    "               }\n",
    "\n",
    "# Items devuelve una \"tupla\" K,V\n",
    "for k, v in diccionario.items():\n",
    "    print(k, \"contiene el valor\", v)\n",
    "\n",
    "print(\"===================================\")\n",
    "\n",
    "# Aunque es recomendable por legibilidad especificar si iteramos por las claves\n",
    "for clave in diccionario.keys():\n",
    "    print(clave)\n",
    "    \n",
    "print(\"===================================\")\n",
    "\n",
    "# O iteramos por los valores\n",
    "for valor in diccionario.values():\n",
    "    print(valor)\n",
    "\n"
   ]
  },
  {
   "cell_type": "markdown",
   "metadata": {},
   "source": [
    "# Bucle While"
   ]
  },
  {
   "cell_type": "markdown",
   "metadata": {},
   "source": [
    "while CONDICIÓN:\n",
    "\n",
    "Procesa mientras lo que esté dentro de CONDICIÓN sea verdadero (TRUE)"
   ]
  },
  {
   "cell_type": "code",
   "execution_count": 56,
   "metadata": {},
   "outputs": [
    {
     "name": "stdout",
     "output_type": "stream",
     "text": [
      "El número 1 es menor o igual que 5\n",
      "El número 2 es menor o igual que 5\n",
      "El número 3 es menor o igual que 5\n",
      "El número 4 es menor o igual que 5\n",
      "El número 5 es menor o igual que 5\n"
     ]
    }
   ],
   "source": [
    "inicio = 1\n",
    "limite = 5\n",
    "\n",
    "# Otra opción para iterar bucles es usar \"while\":\n",
    "while inicio <= limite:\n",
    "    print(\"El número\", inicio, \"es menor o igual que\", limite)\n",
    "    inicio = inicio + 1"
   ]
  },
  {
   "cell_type": "code",
   "execution_count": 63,
   "metadata": {},
   "outputs": [
    {
     "name": "stdout",
     "output_type": "stream",
     "text": [
      "0\n",
      "1\n"
     ]
    }
   ],
   "source": [
    "# Para interrumpir un bucle WHILE se utiliza la instrucción BREAK\n",
    "# Se pueden usar expresiones de tipo condicional (AND, OR, NOT)\n",
    "i = 0\n",
    "j = 1\n",
    "\n",
    "# Las condiciones que se usan en el while son tan complejas como podamos pensar.\n",
    "# Aquí anidamos dos condiciones\n",
    "while i < 5 and j == 1:\n",
    "    print(i)\n",
    "    i = i + 1\n",
    " \n",
    "    # Además podemos controlar el flujo\n",
    "    if i == 2:\n",
    "        break"
   ]
  },
  {
   "cell_type": "markdown",
   "metadata": {},
   "source": [
    "# LISTAS POR COMPRENSION"
   ]
  },
  {
   "cell_type": "markdown",
   "metadata": {},
   "source": [
    "Es una manera elegante y más rápida que usar un bucle para aplicar una operación sobre una lista o un diccionario.\n",
    "\n",
    "Esta es la sintaxis de las listas por comprensión:"
   ]
  },
  {
   "cell_type": "code",
   "execution_count": null,
   "metadata": {},
   "outputs": [],
   "source": [
    "nueva_lista = [expresion bucle_for condiciones]"
   ]
  },
  {
   "cell_type": "markdown",
   "metadata": {},
   "source": [
    "Entre corchetes se escribe una expresión seguida de un bucle for sobre el que se itera, para finalmente escribir unas condiciones."
   ]
  },
  {
   "cell_type": "markdown",
   "metadata": {},
   "source": [
    "Un ejemplo sencillo, vamos a sumar 1 a los 10 primeros números en una lista:\n"
   ]
  },
  {
   "cell_type": "code",
   "execution_count": 3,
   "metadata": {},
   "outputs": [
    {
     "data": {
      "text/plain": [
       "[2, 3, 4, 5, 6, 7, 8, 9, 10, 11]"
      ]
     },
     "execution_count": 3,
     "metadata": {},
     "output_type": "execute_result"
    }
   ],
   "source": [
    "numeros = [1, 2, 3, 4, 5, 6, 7, 8, 9, 10]\n",
    "resultado = []\n",
    "for numero in numeros:\n",
    "    resultado.append(numero + 1) # Append sirve para añadir a la lista\n",
    "\n",
    "resultado # Imprimimos los valores de la lista"
   ]
  },
  {
   "cell_type": "markdown",
   "metadata": {},
   "source": [
    "Esta operación puede resumirse en:"
   ]
  },
  {
   "cell_type": "code",
   "execution_count": 5,
   "metadata": {},
   "outputs": [
    {
     "data": {
      "text/plain": [
       "[2, 3, 4, 5, 6, 7, 8, 9, 10, 11]"
      ]
     },
     "execution_count": 5,
     "metadata": {},
     "output_type": "execute_result"
    }
   ],
   "source": [
    "numeros = [1, 2, 3, 4, 5, 6, 7, 8, 9, 10]\n",
    "resultados = [numero + 1 for numero in numeros]\n",
    "\n",
    "resultados"
   ]
  },
  {
   "cell_type": "code",
   "execution_count": 6,
   "metadata": {},
   "outputs": [
    {
     "name": "stdout",
     "output_type": "stream",
     "text": [
      "['H', 'o', 'l', 'a', ' ', 'M', 'u', 'n', 'd', 'o']\n",
      "['H', 'o', 'l', 'a', ' ', 'M', 'u', 'n', 'd', 'o']\n"
     ]
    }
   ],
   "source": [
    "# Ejemplo inicial usando un bucle y por comprensión de listas:\n",
    "\n",
    "lista_letras = [] # Tenemos una lista que tendrá letras\n",
    "for letra in \"Hola Mundo\":\n",
    "    lista_letras.append(letra)\n",
    "\n",
    "print(lista_letras)\n",
    "\n",
    "# Por comprensión de listas\n",
    "lista_letras = [letra for letra in \"Hola Mundo\"]\n",
    "print(lista_letras)"
   ]
  },
  {
   "cell_type": "code",
   "execution_count": 7,
   "metadata": {},
   "outputs": [],
   "source": [
    "# Otro ejemplo es usar filtros:\n",
    "numeros = [1, 2, 3, 4, 5, 6, 7, 8, 9, 10]\n",
    "resultados = [numero + 1 if numero < 3 else numero for numero in numeros]\n",
    "# ¿Sabrías identificar qué hace este código?"
   ]
  },
  {
   "cell_type": "code",
   "execution_count": 8,
   "metadata": {},
   "outputs": [
    {
     "name": "stdout",
     "output_type": "stream",
     "text": [
      "['Verde', 'Rojo']\n",
      "['Verde', 'Rojo']\n"
     ]
    }
   ],
   "source": [
    "# Podemos incluso llegar a trabajar con varias listas y encontrar los comunes\n",
    "lista_colores_1 = [\"Amarillo\", \"Verde\", \"Azul\", \"Rojo\"]\n",
    "lista_colores_2 = [\"Negro\", \"Rojo\", \"Verde\", \"Rosa\"]\n",
    "lista_comun = []\n",
    "\n",
    "# Sin usar lista de comprensión:\n",
    "for color_1 in lista_colores_1:\n",
    "  for color_2 in lista_colores_2:\n",
    "    if color_1 == color_2:\n",
    "      lista_comun.append(color_1)\n",
    "\n",
    "print(lista_comun)\n",
    "\n",
    "# Usando lista de comprensión\n",
    "lista_colores_1 = [\"Amarillo\", \"Verde\", \"Azul\", \"Rojo\"]\n",
    "lista_colores_2 = [\"Negro\", \"Rojo\", \"Verde\", \"Rosa\"]\n",
    "lista_comun = []\n",
    "\n",
    "lista_comun = [color_1 for color_1 in lista_colores_1 for color_2 in lista_colores_2 if color_1 == color_2]\n",
    "print(lista_comun)"
   ]
  },
  {
   "cell_type": "code",
   "execution_count": 9,
   "metadata": {},
   "outputs": [
    {
     "name": "stdout",
     "output_type": "stream",
     "text": [
      "['Par', 'Impar', 'Par', 'Impar', 'Par', 'Impar', 'Par', 'Impar', 'Par', 'Impar', 'Par', 'Impar', 'Par', 'Impar', 'Par', 'Impar', 'Par', 'Impar', 'Par', 'Impar']\n"
     ]
    }
   ],
   "source": [
    "# Pares e Impares de los 20 primeros números\n",
    "numeros = [\"Par\" if numero % 2 == 0 else \"Impar\" for numero in range(20)]\n",
    "print(numeros)"
   ]
  },
  {
   "cell_type": "code",
   "execution_count": 10,
   "metadata": {},
   "outputs": [
    {
     "name": "stdout",
     "output_type": "stream",
     "text": [
      "[0, 10, 20, 30, 40, 50, 60, 70, 80, 90]\n"
     ]
    }
   ],
   "source": [
    "# Un ejemplo un poco más complicado.\n",
    "# Vamos a filtrar los números menores que 100 que sean divisibles entre 2 y 5:\n",
    "\n",
    "lista_numeros = [numero for numero in range(100) if numero % 2 == 0 if numero % 5 == 0]\n",
    "print(lista_numeros)"
   ]
  },
  {
   "cell_type": "markdown",
   "metadata": {},
   "source": [
    "# FUNCIONES"
   ]
  },
  {
   "cell_type": "markdown",
   "metadata": {},
   "source": [
    "Las funciones sirven para no duplicar código. Nos ayudan a crear partes de código que usaremos en otras partes. Es un must el crear funciones para simplificar y ayudarnos a modularizar nuestro código."
   ]
  },
  {
   "cell_type": "code",
   "execution_count": 11,
   "metadata": {},
   "outputs": [
    {
     "data": {
      "text/plain": [
       "9"
      ]
     },
     "execution_count": 11,
     "metadata": {},
     "output_type": "execute_result"
    }
   ],
   "source": [
    "def suma(a, b):\n",
    "    return a+b\n",
    "\n",
    "suma(2, 7)"
   ]
  },
  {
   "cell_type": "code",
   "execution_count": 16,
   "metadata": {},
   "outputs": [
    {
     "name": "stdout",
     "output_type": "stream",
     "text": [
      "Suma: 11 @ Resta: -3\n"
     ]
    }
   ],
   "source": [
    "# En este ejemplo devolvemos la suma y la resta del número ingresado.\n",
    "# Es decir, podemos devolver 2 parámetros\n",
    "# Aunque no es lo normal\n",
    "def suma_y_resta(numero1, numero2): \n",
    "    suma = numero1 + numero2\n",
    "    resta = numero1 - numero2\n",
    "    return suma, resta\n",
    "\n",
    "suma_total, resta_total = suma_y_resta(4, 7)\n",
    "print(\"Suma:\", suma_total, \"@ Resta:\", resta_total)"
   ]
  },
  {
   "cell_type": "code",
   "execution_count": 17,
   "metadata": {},
   "outputs": [
    {
     "name": "stdout",
     "output_type": "stream",
     "text": [
      "Nnúmero Fibonacci #20: 6765\n"
     ]
    }
   ],
   "source": [
    "# Función que devuelve el elemento n de la serie Fibonacci. \n",
    "# Tiene un solo parámetro, el número de elemento deseado.\n",
    "def fib(numero_final):\n",
    "    \"\"\"\n",
    "    Así se documentan funciones en código.\n",
    "    Escribe la serie Fibonacci hasta el número n.\n",
    "    \"\"\"\n",
    "    a, b = 0, 1\n",
    "    for _ in range(numero_final):\n",
    "        a, b = b, a+b\n",
    "        # a = b\n",
    "        # b = a + b\n",
    "    return a\n",
    "\n",
    "# Una vez implementada la función podemos llamarla desde otras celdas de ejecución.\n",
    "\n",
    "x = fib(20)\n",
    "print(\"Nnúmero Fibonacci #20:\", x)"
   ]
  },
  {
   "cell_type": "code",
   "execution_count": null,
   "metadata": {},
   "outputs": [],
   "source": [
    "def suma(*numeros):\n",
    "    for elemento in numeros:\n",
    "        resultado = sum(*numeros)\n",
    "\n",
    "suma(2, 1, 7)"
   ]
  },
  {
   "cell_type": "markdown",
   "metadata": {},
   "source": [
    "### Funciones lambda"
   ]
  },
  {
   "cell_type": "code",
   "execution_count": 14,
   "metadata": {},
   "outputs": [],
   "source": [
    "suma = lambda a, b: a + b\n",
    "\n",
    "suma(2, 7)"
   ]
  },
  {
   "cell_type": "code",
   "execution_count": 13,
   "metadata": {},
   "outputs": [
    {
     "data": {
      "text/plain": [
       "1.0"
      ]
     },
     "execution_count": 13,
     "metadata": {},
     "output_type": "execute_result"
    }
   ],
   "source": [
    "funcion = lambda x: 4*x**7 - 3/x\n",
    "\n",
    "funcion(1)"
   ]
  },
  {
   "cell_type": "code",
   "execution_count": 1,
   "metadata": {},
   "outputs": [
    {
     "data": {
      "text/plain": [
       "'adriana'"
      ]
     },
     "execution_count": 1,
     "metadata": {},
     "output_type": "execute_result"
    }
   ],
   "source": [
    "minusculas = lambda palabra: palabra.lower()\n",
    "\n",
    "minusculas('ADRIANA')"
   ]
  },
  {
   "cell_type": "code",
   "execution_count": 9,
   "metadata": {},
   "outputs": [
    {
     "name": "stdout",
     "output_type": "stream",
     "text": [
      "El año es bisiesto\n"
     ]
    }
   ],
   "source": [
    "#comprobar si un año es bisiesto\n",
    "\n",
    "#año bisiesto: cada 4 años\n",
    "\n",
    "def es_bisiesto(año):\n",
    "    if (año%4 == 0) and (año%100 != 0) or (año%400 == 0):\n",
    "        print(\"El año es bisiesto\")\n",
    "              \n",
    "    else:\n",
    "        print(\"El año no es bisiesto\")\n",
    "\n",
    "\n",
    "es_bisiesto(2024)"
   ]
  }
 ],
 "metadata": {
  "kernelspec": {
   "display_name": "mi_entorno",
   "language": "python",
   "name": "python3"
  },
  "language_info": {
   "codemirror_mode": {
    "name": "ipython",
    "version": 3
   },
   "file_extension": ".py",
   "mimetype": "text/x-python",
   "name": "python",
   "nbconvert_exporter": "python",
   "pygments_lexer": "ipython3",
   "version": "3.11.5"
  },
  "orig_nbformat": 4
 },
 "nbformat": 4,
 "nbformat_minor": 2
}
